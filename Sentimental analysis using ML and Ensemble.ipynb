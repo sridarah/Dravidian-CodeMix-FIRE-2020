{
  "nbformat": 4,
  "nbformat_minor": 0,
  "metadata": {
    "colab": {
      "name": "intern senti.ipynb",
      "provenance": [],
      "collapsed_sections": []
    },
    "kernelspec": {
      "name": "python3",
      "display_name": "Python 3"
    }
  },
  "cells": [
    {
      "cell_type": "code",
      "metadata": {
        "id": "zrUc8I_el7N1",
        "outputId": "6f898208-1751-4c48-b8cb-df3c67227d3d",
        "colab": {
          "base_uri": "https://localhost:8080/",
          "height": 122
        }
      },
      "source": [
        "from google.colab import drive\n",
        "drive.mount('/content/drive')"
      ],
      "execution_count": null,
      "outputs": [
        {
          "output_type": "stream",
          "text": [
            "Go to this URL in a browser: https://accounts.google.com/o/oauth2/auth?client_id=947318989803-6bn6qk8qdgf4n4g3pfee6491hc0brc4i.apps.googleusercontent.com&redirect_uri=urn%3aietf%3awg%3aoauth%3a2.0%3aoob&scope=email%20https%3a%2f%2fwww.googleapis.com%2fauth%2fdocs.test%20https%3a%2f%2fwww.googleapis.com%2fauth%2fdrive%20https%3a%2f%2fwww.googleapis.com%2fauth%2fdrive.photos.readonly%20https%3a%2f%2fwww.googleapis.com%2fauth%2fpeopleapi.readonly&response_type=code\n",
            "\n",
            "Enter your authorization code:\n",
            "··········\n",
            "Mounted at /content/drive\n"
          ],
          "name": "stdout"
        }
      ]
    },
    {
      "cell_type": "code",
      "metadata": {
        "id": "xt5m3EXmjQHu"
      },
      "source": [
        "import pandas as pd"
      ],
      "execution_count": null,
      "outputs": []
    },
    {
      "cell_type": "code",
      "metadata": {
        "id": "TmEW0pBRk8jz",
        "outputId": "4cbb641c-b2d7-4d24-fb40-32c03120ddfb",
        "colab": {
          "base_uri": "https://localhost:8080/",
          "height": 204
        }
      },
      "source": [
        "tamil_train_data = pd.read_csv(\"/content/drive/My Drive/AAAA--DATASETS/tamil_train.tsv\",sep='\\t')\n",
        "tamil_train_data.head()\n"
      ],
      "execution_count": null,
      "outputs": [
        {
          "output_type": "execute_result",
          "data": {
            "text/html": [
              "<div>\n",
              "<style scoped>\n",
              "    .dataframe tbody tr th:only-of-type {\n",
              "        vertical-align: middle;\n",
              "    }\n",
              "\n",
              "    .dataframe tbody tr th {\n",
              "        vertical-align: top;\n",
              "    }\n",
              "\n",
              "    .dataframe thead th {\n",
              "        text-align: right;\n",
              "    }\n",
              "</style>\n",
              "<table border=\"1\" class=\"dataframe\">\n",
              "  <thead>\n",
              "    <tr style=\"text-align: right;\">\n",
              "      <th></th>\n",
              "      <th>text</th>\n",
              "      <th>category</th>\n",
              "    </tr>\n",
              "  </thead>\n",
              "  <tbody>\n",
              "    <tr>\n",
              "      <th>0</th>\n",
              "      <td>Trailer late ah parthavanga like podunga</td>\n",
              "      <td>Positive</td>\n",
              "    </tr>\n",
              "    <tr>\n",
              "      <th>1</th>\n",
              "      <td>Move pathutu vanthu trailer pakurvnga yaru</td>\n",
              "      <td>Positive</td>\n",
              "    </tr>\n",
              "    <tr>\n",
              "      <th>2</th>\n",
              "      <td>Puthupetai dhanush  ah yarellam pathinga</td>\n",
              "      <td>Positive</td>\n",
              "    </tr>\n",
              "    <tr>\n",
              "      <th>3</th>\n",
              "      <td>Dhanush oda character ,puthu sa erukay , mass ta</td>\n",
              "      <td>Positive</td>\n",
              "    </tr>\n",
              "    <tr>\n",
              "      <th>4</th>\n",
              "      <td>vera level ippa pesungada mokka nu thalaivaaaaaa</td>\n",
              "      <td>Positive</td>\n",
              "    </tr>\n",
              "  </tbody>\n",
              "</table>\n",
              "</div>"
            ],
            "text/plain": [
              "                                                text   category\n",
              "0           Trailer late ah parthavanga like podunga  Positive \n",
              "1         Move pathutu vanthu trailer pakurvnga yaru  Positive \n",
              "2           Puthupetai dhanush  ah yarellam pathinga  Positive \n",
              "3   Dhanush oda character ,puthu sa erukay , mass ta  Positive \n",
              "4   vera level ippa pesungada mokka nu thalaivaaaaaa  Positive "
            ]
          },
          "metadata": {
            "tags": []
          },
          "execution_count": 3
        }
      ]
    },
    {
      "cell_type": "code",
      "metadata": {
        "id": "gQHK4BIPGjKV",
        "outputId": "1f37de57-fa40-41e0-dcb0-e721fa49fb0e",
        "colab": {
          "base_uri": "https://localhost:8080/",
          "height": 204
        }
      },
      "source": [
        "tamil_val_data = pd.read_csv(\"/content/drive/My Drive/AAAA--DATASETS/tamil_dev.tsv\",sep='\\t')\n",
        "tamil_val_data.head()"
      ],
      "execution_count": null,
      "outputs": [
        {
          "output_type": "execute_result",
          "data": {
            "text/html": [
              "<div>\n",
              "<style scoped>\n",
              "    .dataframe tbody tr th:only-of-type {\n",
              "        vertical-align: middle;\n",
              "    }\n",
              "\n",
              "    .dataframe tbody tr th {\n",
              "        vertical-align: top;\n",
              "    }\n",
              "\n",
              "    .dataframe thead th {\n",
              "        text-align: right;\n",
              "    }\n",
              "</style>\n",
              "<table border=\"1\" class=\"dataframe\">\n",
              "  <thead>\n",
              "    <tr style=\"text-align: right;\">\n",
              "      <th></th>\n",
              "      <th>text</th>\n",
              "      <th>category</th>\n",
              "    </tr>\n",
              "  </thead>\n",
              "  <tbody>\n",
              "    <tr>\n",
              "      <th>0</th>\n",
              "      <td>Daily likes &amp; views pakka vanthavaga ellaruku...</td>\n",
              "      <td>Positive</td>\n",
              "    </tr>\n",
              "    <tr>\n",
              "      <th>1</th>\n",
              "      <td>25 k dislikes ethuku da intha trailerku poi a...</td>\n",
              "      <td>Negative</td>\n",
              "    </tr>\n",
              "    <tr>\n",
              "      <th>2</th>\n",
              "      <td>#Lyca unna nenacha pavama iruku ya</td>\n",
              "      <td>Mixed_feelings</td>\n",
              "    </tr>\n",
              "    <tr>\n",
              "      <th>3</th>\n",
              "      <td>It looks like Hindi movie amitab bachan</td>\n",
              "      <td>Positive</td>\n",
              "    </tr>\n",
              "    <tr>\n",
              "      <th>4</th>\n",
              "      <td>Thalaivarukku nejamavey vayasaagiduchu... siv...</td>\n",
              "      <td>Positive</td>\n",
              "    </tr>\n",
              "  </tbody>\n",
              "</table>\n",
              "</div>"
            ],
            "text/plain": [
              "                                                text         category\n",
              "0   Daily likes & views pakka vanthavaga ellaruku...        Positive \n",
              "1   25 k dislikes ethuku da intha trailerku poi a...        Negative \n",
              "2                 #Lyca unna nenacha pavama iruku ya  Mixed_feelings \n",
              "3            It looks like Hindi movie amitab bachan        Positive \n",
              "4   Thalaivarukku nejamavey vayasaagiduchu... siv...        Positive "
            ]
          },
          "metadata": {
            "tags": []
          },
          "execution_count": 4
        }
      ]
    },
    {
      "cell_type": "code",
      "metadata": {
        "id": "n2pYTRgOoV6y",
        "outputId": "581fa028-7dd6-4863-fd0d-129d5e444f67",
        "colab": {
          "base_uri": "https://localhost:8080/",
          "height": 173
        }
      },
      "source": [
        "tamil_train_data.describe()"
      ],
      "execution_count": null,
      "outputs": [
        {
          "output_type": "execute_result",
          "data": {
            "text/html": [
              "<div>\n",
              "<style scoped>\n",
              "    .dataframe tbody tr th:only-of-type {\n",
              "        vertical-align: middle;\n",
              "    }\n",
              "\n",
              "    .dataframe tbody tr th {\n",
              "        vertical-align: top;\n",
              "    }\n",
              "\n",
              "    .dataframe thead th {\n",
              "        text-align: right;\n",
              "    }\n",
              "</style>\n",
              "<table border=\"1\" class=\"dataframe\">\n",
              "  <thead>\n",
              "    <tr style=\"text-align: right;\">\n",
              "      <th></th>\n",
              "      <th>text</th>\n",
              "      <th>category</th>\n",
              "    </tr>\n",
              "  </thead>\n",
              "  <tbody>\n",
              "    <tr>\n",
              "      <th>count</th>\n",
              "      <td>11335</td>\n",
              "      <td>11335</td>\n",
              "    </tr>\n",
              "    <tr>\n",
              "      <th>unique</th>\n",
              "      <td>11237</td>\n",
              "      <td>5</td>\n",
              "    </tr>\n",
              "    <tr>\n",
              "      <th>top</th>\n",
              "      <td>Graphics sari illa nu solrathukune oru gang s...</td>\n",
              "      <td>Positive</td>\n",
              "    </tr>\n",
              "    <tr>\n",
              "      <th>freq</th>\n",
              "      <td>6</td>\n",
              "      <td>7627</td>\n",
              "    </tr>\n",
              "  </tbody>\n",
              "</table>\n",
              "</div>"
            ],
            "text/plain": [
              "                                                     text   category\n",
              "count                                               11335      11335\n",
              "unique                                              11237          5\n",
              "top      Graphics sari illa nu solrathukune oru gang s...  Positive \n",
              "freq                                                    6       7627"
            ]
          },
          "metadata": {
            "tags": []
          },
          "execution_count": 5
        }
      ]
    },
    {
      "cell_type": "code",
      "metadata": {
        "id": "EA9IlQ0RIC3G"
      },
      "source": [
        "import matplotlib.pyplot as plt"
      ],
      "execution_count": null,
      "outputs": []
    },
    {
      "cell_type": "code",
      "metadata": {
        "id": "Nw3SMRVMIVwY",
        "outputId": "b84aa9c1-8460-480b-a5a4-498905b11444",
        "colab": {
          "base_uri": "https://localhost:8080/",
          "height": 355
        }
      },
      "source": [
        "tamil_train_data['category'].value_counts().plot.bar(color = 'pink', figsize = (6, 4))"
      ],
      "execution_count": null,
      "outputs": [
        {
          "output_type": "execute_result",
          "data": {
            "text/plain": [
              "<matplotlib.axes._subplots.AxesSubplot at 0x7fb2a6b539e8>"
            ]
          },
          "metadata": {
            "tags": []
          },
          "execution_count": 7
        },
        {
          "output_type": "display_data",
          "data": {
            "image/png": "[encoded data removed]",
            "text/plain": [
              "<Figure size 432x288 with 1 Axes>"
            ]
          },
          "metadata": {
            "tags": [],
            "needs_background": "light"
          }
        }
      ]
    },
    {
      "cell_type": "code",
      "metadata": {
        "id": "Iw6a1y5bIghP",
        "outputId": "a1e786d0-3743-464a-940e-423b1efdaa39",
        "colab": {
          "base_uri": "https://localhost:8080/",
          "height": 266
        }
      },
      "source": [
        "tamil_train_data.groupby('category').describe()"
      ],
      "execution_count": null,
      "outputs": [
        {
          "output_type": "execute_result",
          "data": {
            "text/html": [
              "<div>\n",
              "<style scoped>\n",
              "    .dataframe tbody tr th:only-of-type {\n",
              "        vertical-align: middle;\n",
              "    }\n",
              "\n",
              "    .dataframe tbody tr th {\n",
              "        vertical-align: top;\n",
              "    }\n",
              "\n",
              "    .dataframe thead tr th {\n",
              "        text-align: left;\n",
              "    }\n",
              "\n",
              "    .dataframe thead tr:last-of-type th {\n",
              "        text-align: right;\n",
              "    }\n",
              "</style>\n",
              "<table border=\"1\" class=\"dataframe\">\n",
              "  <thead>\n",
              "    <tr>\n",
              "      <th></th>\n",
              "      <th colspan=\"4\" halign=\"left\">text</th>\n",
              "    </tr>\n",
              "    <tr>\n",
              "      <th></th>\n",
              "      <th>count</th>\n",
              "      <th>unique</th>\n",
              "      <th>top</th>\n",
              "      <th>freq</th>\n",
              "    </tr>\n",
              "    <tr>\n",
              "      <th>category</th>\n",
              "      <th></th>\n",
              "      <th></th>\n",
              "      <th></th>\n",
              "      <th></th>\n",
              "    </tr>\n",
              "  </thead>\n",
              "  <tbody>\n",
              "    <tr>\n",
              "      <th>Mixed_feelings</th>\n",
              "      <td>1283</td>\n",
              "      <td>1274</td>\n",
              "      <td>inga kodutha sweet saapttu andha pakkam poana...</td>\n",
              "      <td>3</td>\n",
              "    </tr>\n",
              "    <tr>\n",
              "      <th>Negative</th>\n",
              "      <td>1448</td>\n",
              "      <td>1448</td>\n",
              "      <td>My god wowwqwwqw what a man rajini sir</td>\n",
              "      <td>1</td>\n",
              "    </tr>\n",
              "    <tr>\n",
              "      <th>Positive</th>\n",
              "      <td>7627</td>\n",
              "      <td>7552</td>\n",
              "      <td>Graphics sari illa nu solrathukune oru gang s...</td>\n",
              "      <td>6</td>\n",
              "    </tr>\n",
              "    <tr>\n",
              "      <th>not-Tamil</th>\n",
              "      <td>368</td>\n",
              "      <td>366</td>\n",
              "      <td>U kena tunggu lama lagi utk tau saya</td>\n",
              "      <td>2</td>\n",
              "    </tr>\n",
              "    <tr>\n",
              "      <th>unknown_state</th>\n",
              "      <td>609</td>\n",
              "      <td>607</td>\n",
              "      <td>viswasam fastest 190k dislikes world record</td>\n",
              "      <td>2</td>\n",
              "    </tr>\n",
              "  </tbody>\n",
              "</table>\n",
              "</div>"
            ],
            "text/plain": [
              "                 text  ...     \n",
              "                count  ... freq\n",
              "category               ...     \n",
              "Mixed_feelings   1283  ...    3\n",
              "Negative         1448  ...    1\n",
              "Positive         7627  ...    6\n",
              "not-Tamil         368  ...    2\n",
              "unknown_state     609  ...    2\n",
              "\n",
              "[5 rows x 4 columns]"
            ]
          },
          "metadata": {
            "tags": []
          },
          "execution_count": 8
        }
      ]
    },
    {
      "cell_type": "code",
      "metadata": {
        "id": "mUoL4w6dO72v",
        "outputId": "064ef79e-3061-41dc-d4fe-4913a518817b",
        "colab": {
          "base_uri": "https://localhost:8080/",
          "height": 204
        }
      },
      "source": [
        "tamil_test_data = pd.read_csv(\"/content/drive/My Drive/AAAA--DATASETS/tamil_test_answer.tsv\",sep='\\t')\n",
        "tamil_test_data.head()"
      ],
      "execution_count": null,
      "outputs": [
        {
          "output_type": "execute_result",
          "data": {
            "text/html": [
              "<div>\n",
              "<style scoped>\n",
              "    .dataframe tbody tr th:only-of-type {\n",
              "        vertical-align: middle;\n",
              "    }\n",
              "\n",
              "    .dataframe tbody tr th {\n",
              "        vertical-align: top;\n",
              "    }\n",
              "\n",
              "    .dataframe thead th {\n",
              "        text-align: right;\n",
              "    }\n",
              "</style>\n",
              "<table border=\"1\" class=\"dataframe\">\n",
              "  <thead>\n",
              "    <tr style=\"text-align: right;\">\n",
              "      <th></th>\n",
              "      <th>id</th>\n",
              "      <th>text</th>\n",
              "      <th>category</th>\n",
              "    </tr>\n",
              "  </thead>\n",
              "  <tbody>\n",
              "    <tr>\n",
              "      <th>0</th>\n",
              "      <td>ta_sent_1</td>\n",
              "      <td>Yarayellam FDFS ppga ippove ready agitinga</td>\n",
              "      <td>Positive</td>\n",
              "    </tr>\n",
              "    <tr>\n",
              "      <th>1</th>\n",
              "      <td>ta_sent_2</td>\n",
              "      <td>Ennada viswasam mersal sarkar madhri time la l...</td>\n",
              "      <td>Positive</td>\n",
              "    </tr>\n",
              "    <tr>\n",
              "      <th>2</th>\n",
              "      <td>ta_sent_3</td>\n",
              "      <td>yuvan vera level ya .... valuable script. SK i...</td>\n",
              "      <td>Positive</td>\n",
              "    </tr>\n",
              "    <tr>\n",
              "      <th>3</th>\n",
              "      <td>ta_sent_4</td>\n",
              "      <td>70 vayasulayum thanoda rasigargala sandhosapad...</td>\n",
              "      <td>Mixed_feelings</td>\n",
              "    </tr>\n",
              "    <tr>\n",
              "      <th>4</th>\n",
              "      <td>ta_sent_5</td>\n",
              "      <td>all the best anna...Telugu makkal selvan fans</td>\n",
              "      <td>Positive</td>\n",
              "    </tr>\n",
              "  </tbody>\n",
              "</table>\n",
              "</div>"
            ],
            "text/plain": [
              "          id                                               text        category\n",
              "0  ta_sent_1         Yarayellam FDFS ppga ippove ready agitinga        Positive\n",
              "1  ta_sent_2  Ennada viswasam mersal sarkar madhri time la l...        Positive\n",
              "2  ta_sent_3  yuvan vera level ya .... valuable script. SK i...        Positive\n",
              "3  ta_sent_4  70 vayasulayum thanoda rasigargala sandhosapad...  Mixed_feelings\n",
              "4  ta_sent_5      all the best anna...Telugu makkal selvan fans        Positive"
            ]
          },
          "metadata": {
            "tags": []
          },
          "execution_count": 9
        }
      ]
    },
    {
      "cell_type": "code",
      "metadata": {
        "id": "5TrPjyFwZPfk",
        "outputId": "f9f8d932-e180-4e39-cfbf-5d98c84356c7",
        "colab": {
          "base_uri": "https://localhost:8080/",
          "height": 266
        }
      },
      "source": [
        "tamil_test_data.groupby('category').describe()"
      ],
      "execution_count": null,
      "outputs": [
        {
          "output_type": "execute_result",
          "data": {
            "text/html": [
              "<div>\n",
              "<style scoped>\n",
              "    .dataframe tbody tr th:only-of-type {\n",
              "        vertical-align: middle;\n",
              "    }\n",
              "\n",
              "    .dataframe tbody tr th {\n",
              "        vertical-align: top;\n",
              "    }\n",
              "\n",
              "    .dataframe thead tr th {\n",
              "        text-align: left;\n",
              "    }\n",
              "\n",
              "    .dataframe thead tr:last-of-type th {\n",
              "        text-align: right;\n",
              "    }\n",
              "</style>\n",
              "<table border=\"1\" class=\"dataframe\">\n",
              "  <thead>\n",
              "    <tr>\n",
              "      <th></th>\n",
              "      <th colspan=\"4\" halign=\"left\">id</th>\n",
              "      <th colspan=\"4\" halign=\"left\">text</th>\n",
              "    </tr>\n",
              "    <tr>\n",
              "      <th></th>\n",
              "      <th>count</th>\n",
              "      <th>unique</th>\n",
              "      <th>top</th>\n",
              "      <th>freq</th>\n",
              "      <th>count</th>\n",
              "      <th>unique</th>\n",
              "      <th>top</th>\n",
              "      <th>freq</th>\n",
              "    </tr>\n",
              "    <tr>\n",
              "      <th>category</th>\n",
              "      <th></th>\n",
              "      <th></th>\n",
              "      <th></th>\n",
              "      <th></th>\n",
              "      <th></th>\n",
              "      <th></th>\n",
              "      <th></th>\n",
              "      <th></th>\n",
              "    </tr>\n",
              "  </thead>\n",
              "  <tbody>\n",
              "    <tr>\n",
              "      <th>Mixed_feelings</th>\n",
              "      <td>377</td>\n",
              "      <td>377</td>\n",
              "      <td>ta_sent_1758</td>\n",
              "      <td>1</td>\n",
              "      <td>377</td>\n",
              "      <td>377</td>\n",
              "      <td>10K Anti-rajinism  against 155K rajinism :)</td>\n",
              "      <td>1</td>\n",
              "    </tr>\n",
              "    <tr>\n",
              "      <th>Negative</th>\n",
              "      <td>424</td>\n",
              "      <td>424</td>\n",
              "      <td>ta_sent_2403</td>\n",
              "      <td>1</td>\n",
              "      <td>424</td>\n",
              "      <td>424</td>\n",
              "      <td>Dis like pottha potta pasangala nigala nallave...</td>\n",
              "      <td>1</td>\n",
              "    </tr>\n",
              "    <tr>\n",
              "      <th>Positive</th>\n",
              "      <td>2075</td>\n",
              "      <td>2075</td>\n",
              "      <td>ta_sent_771</td>\n",
              "      <td>1</td>\n",
              "      <td>2075</td>\n",
              "      <td>2069</td>\n",
              "      <td>super star</td>\n",
              "      <td>2</td>\n",
              "    </tr>\n",
              "    <tr>\n",
              "      <th>not-Tamil</th>\n",
              "      <td>100</td>\n",
              "      <td>100</td>\n",
              "      <td>ta_sent_1881</td>\n",
              "      <td>1</td>\n",
              "      <td>100</td>\n",
              "      <td>100</td>\n",
              "      <td>you kena tunggu lama lagi untuk tahu saya' it ...</td>\n",
              "      <td>1</td>\n",
              "    </tr>\n",
              "    <tr>\n",
              "      <th>unknown_state</th>\n",
              "      <td>173</td>\n",
              "      <td>173</td>\n",
              "      <td>ta_sent_2995</td>\n",
              "      <td>1</td>\n",
              "      <td>173</td>\n",
              "      <td>173</td>\n",
              "      <td>telugu pawan kalyan tamil thala malayalam nivin</td>\n",
              "      <td>1</td>\n",
              "    </tr>\n",
              "  </tbody>\n",
              "</table>\n",
              "</div>"
            ],
            "text/plain": [
              "                  id  ... text\n",
              "               count  ... freq\n",
              "category              ...     \n",
              "Mixed_feelings   377  ...    1\n",
              "Negative         424  ...    1\n",
              "Positive        2075  ...    2\n",
              "not-Tamil        100  ...    1\n",
              "unknown_state    173  ...    1\n",
              "\n",
              "[5 rows x 8 columns]"
            ]
          },
          "metadata": {
            "tags": []
          },
          "execution_count": 10
        }
      ]
    },
    {
      "cell_type": "code",
      "metadata": {
        "id": "-QJc6lYKNQuL",
        "outputId": "a9cbd2cf-862f-41d8-ea74-634b136d9e88",
        "colab": {
          "base_uri": "https://localhost:8080/",
          "height": 85
        }
      },
      "source": [
        "import nltk\n",
        "nltk.download('punkt')\n",
        "nltk.download('stopwords')  \n",
        "from nltk.corpus import stopwords  "
      ],
      "execution_count": null,
      "outputs": [
        {
          "output_type": "stream",
          "text": [
            "[nltk_data] Downloading package punkt to /root/nltk_data...\n",
            "[nltk_data]   Unzipping tokenizers/punkt.zip.\n",
            "[nltk_data] Downloading package stopwords to /root/nltk_data...\n",
            "[nltk_data]   Unzipping corpora/stopwords.zip.\n"
          ],
          "name": "stdout"
        }
      ]
    },
    {
      "cell_type": "code",
      "metadata": {
        "id": "Xt0RqvJG5U3J"
      },
      "source": [
        "x_train = tamil_train_data.iloc[:,0].values  \n",
        "y_train = tamil_train_data.iloc[:,1].values\n",
        "\n",
        "x_val = tamil_val_data.iloc[:,0].values  \n",
        "y_val = tamil_val_data.iloc[:,1].values\n",
        "\n",
        "x_test = tamil_test_data.iloc[:,1].values\n",
        "y_test = tamil_test_data.iloc[:,2].values"
      ],
      "execution_count": null,
      "outputs": []
    },
    {
      "cell_type": "code",
      "metadata": {
        "id": "ozvDeEPHPLjy",
        "outputId": "3ca6a244-b8fc-4d52-856a-579788afeb99",
        "colab": {
          "base_uri": "https://localhost:8080/",
          "height": 51
        }
      },
      "source": [
        "print(len(x_train),\" \", len(x_val) ,\" \", len(x_test))\n",
        "print(len(y_train),\" \", len(y_val) ,\" \", len(y_test))"
      ],
      "execution_count": null,
      "outputs": [
        {
          "output_type": "stream",
          "text": [
            "11335   1260   3149\n",
            "11335   1260   3149\n"
          ],
          "name": "stdout"
        }
      ]
    },
    {
      "cell_type": "code",
      "metadata": {
        "id": "t9ayFUaqFoSb"
      },
      "source": [
        "import numpy as np\n",
        "X = np.append(x_train,x_val,axis=0)\n",
        "X = np.append(X,x_test,axis=0)\n",
        "Y = np.append(y_train,y_val,axis=0)\n",
        "Y = np.append(Y,y_test,axis=0)"
      ],
      "execution_count": null,
      "outputs": []
    },
    {
      "cell_type": "code",
      "metadata": {
        "id": "1CxahOTmPZxP",
        "outputId": "ba71eeda-5732-4c3a-a7f0-4d76764ba7db",
        "colab": {
          "base_uri": "https://localhost:8080/",
          "height": 34
        }
      },
      "source": [
        "print(len(X) ,\" \", len(Y))\n"
      ],
      "execution_count": null,
      "outputs": [
        {
          "output_type": "stream",
          "text": [
            "15744   15744\n"
          ],
          "name": "stdout"
        }
      ]
    },
    {
      "cell_type": "code",
      "metadata": {
        "id": "DQfVzTDX53H9"
      },
      "source": [
        "import re\n",
        "\n",
        "processed_tweets = []\n",
        " \n",
        "def pre_processing(X):\n",
        "  for tweet in range(0, len(X)):  \n",
        "    # Remove all the special characters\n",
        "    processed_tweet = re.sub(r'\\W', ' ', str(X[tweet]))\n",
        " \n",
        "    # remove all single characters\n",
        "    processed_tweet = re.sub(r'\\s+[a-zA-Z]\\s+', ' ', processed_tweet)\n",
        " \n",
        "    # Remove single characters from the start\n",
        "    #processed_tweet = re.sub(r'\\^[a-zA-Z]\\s+', ' ', processed_tweet) \n",
        " \n",
        "    # Substituting multiple spaces with single space\n",
        "    processed_tweet= re.sub(r'\\s+', ' ', processed_tweet, flags=re.I)\n",
        " \n",
        "    # Converting to Lowercase\n",
        "    processed_tweet = processed_tweet.lower()\n",
        " \n",
        "    processed_tweets.append(processed_tweet)"
      ],
      "execution_count": null,
      "outputs": []
    },
    {
      "cell_type": "code",
      "metadata": {
        "id": "_hq5rkrbNehP"
      },
      "source": [
        "pre_processing(X)\n",
        "#processed_tweets"
      ],
      "execution_count": null,
      "outputs": []
    },
    {
      "cell_type": "code",
      "metadata": {
        "id": "CmBeEjHzh1_6"
      },
      "source": [
        "processed_labels = []\n",
        " \n",
        "def pre_processing_l(Y):\n",
        "  for i in range(0, len(Y)):  \n",
        "    # Removing multiple spaces\n",
        "    processed_label= re.sub(r'\\s+', '', str(Y[i]), flags=re.I)\n",
        " \n",
        "    processed_labels.append(processed_label)"
      ],
      "execution_count": null,
      "outputs": []
    },
    {
      "cell_type": "code",
      "metadata": {
        "id": "Ui2MeRgeinlo"
      },
      "source": [
        "pre_processing_l(Y)\n",
        "#processed_labels "
      ],
      "execution_count": null,
      "outputs": []
    },
    {
      "cell_type": "code",
      "metadata": {
        "id": "-witLUBe62XJ"
      },
      "source": [
        "from sklearn.feature_extraction.text import TfidfVectorizer  \n",
        "tfidfconverter = TfidfVectorizer(max_features=3000)  \n",
        "X = tfidfconverter.fit_transform(processed_tweets).toarray()"
      ],
      "execution_count": null,
      "outputs": []
    },
    {
      "cell_type": "code",
      "metadata": {
        "id": "AtUfxYAB9V07",
        "outputId": "0dbe349a-5849-4421-d428-aea8db2a92c0",
        "colab": {
          "base_uri": "https://localhost:8080/",
          "height": 51
        }
      },
      "source": [
        "from sklearn.preprocessing import LabelEncoder\n",
        "le = LabelEncoder()\n",
        "Y = le.fit_transform(processed_labels)\n",
        "le.classes_"
      ],
      "execution_count": null,
      "outputs": [
        {
          "output_type": "execute_result",
          "data": {
            "text/plain": [
              "array(['Mixed_feelings', 'Negative', 'Positive', 'not-Tamil',\n",
              "       'unknown_state'], dtype='<U14')"
            ]
          },
          "metadata": {
            "tags": []
          },
          "execution_count": 21
        }
      ]
    },
    {
      "cell_type": "code",
      "metadata": {
        "id": "jzzD3fb2HjAi",
        "outputId": "b5a995f9-0586-45f7-b912-b777f77f3f43",
        "colab": {
          "base_uri": "https://localhost:8080/",
          "height": 119
        }
      },
      "source": [
        "X_train = X[:len(x_train)] \n",
        "Y_train = Y[:len(y_train)] \n",
        "\n",
        "X_val = X[len(x_train) : len(x_train)+len(x_val)]\n",
        "Y_val = Y[len(y_train) : len(y_train)+len(y_val)]\n",
        "\n",
        "print(len(X_train))\n",
        "print(len(Y_train))\n",
        "\n",
        "print(len(X_val))\n",
        "print(len(Y_val))\n",
        "\n",
        "X_test = X[len(x_train)+len(x_val) : ]\n",
        "Y_test = Y[len(y_train)+len(y_val) : ]\n",
        "\n",
        "print(len(X_test))\n",
        "print(len(Y_test))"
      ],
      "execution_count": null,
      "outputs": [
        {
          "output_type": "stream",
          "text": [
            "11335\n",
            "11335\n",
            "1260\n",
            "1260\n",
            "3149\n",
            "3149\n"
          ],
          "name": "stdout"
        }
      ]
    },
    {
      "cell_type": "markdown",
      "metadata": {
        "id": "OuA19_2cIBiA"
      },
      "source": [
        "**BERNOULI NAIVE BAYES**"
      ]
    },
    {
      "cell_type": "code",
      "metadata": {
        "id": "1KQDPj7V68yo",
        "outputId": "d1360748-e02b-4fd5-808c-9269c3c26559",
        "colab": {
          "base_uri": "https://localhost:8080/",
          "height": 255
        }
      },
      "source": [
        "from sklearn.naive_bayes import BernoulliNB\n",
        "from sklearn.metrics import classification_report, confusion_matrix, accuracy_score\n",
        " \n",
        "bnb = BernoulliNB()\n",
        "bnb.fit(X_train,Y_train)\n",
        "print(\"Training Accuracy :\" , accuracy_score(Y_train, bnb.predict(X_train)) )\n",
        "predictions1 = bnb.predict(X_test)\n",
        "#print(confusion_matrix(Y_test,predictions1))  \n",
        "print(classification_report(Y_test,predictions1))  \n",
        "print(\" Test ACCURACY  : \",accuracy_score(Y_test, predictions1))"
      ],
      "execution_count": null,
      "outputs": [
        {
          "output_type": "stream",
          "text": [
            "Training Accuracy : 0.7328628142920158\n",
            "              precision    recall  f1-score   support\n",
            "\n",
            "           0       0.21      0.08      0.12       377\n",
            "           1       0.39      0.34      0.36       424\n",
            "           2       0.73      0.87      0.80      2075\n",
            "           3       0.70      0.57      0.63       100\n",
            "           4       0.29      0.10      0.15       173\n",
            "\n",
            "    accuracy                           0.66      3149\n",
            "   macro avg       0.46      0.39      0.41      3149\n",
            "weighted avg       0.60      0.66      0.62      3149\n",
            "\n",
            " Test ACCURACY  :  0.6554461733883773\n"
          ],
          "name": "stdout"
        }
      ]
    },
    {
      "cell_type": "markdown",
      "metadata": {
        "id": "UPMLsmUhII65"
      },
      "source": [
        "**RANDOM FOREST**"
      ]
    },
    {
      "cell_type": "code",
      "metadata": {
        "id": "t7E1M0eRIIjm",
        "outputId": "b23c686b-edb5-4341-fa3a-6e845efc1989",
        "colab": {
          "base_uri": "https://localhost:8080/",
          "height": 340
        }
      },
      "source": [
        "from sklearn.ensemble import RandomForestClassifier\n",
        "rf = RandomForestClassifier(n_estimators=10, random_state=0, class_weight={0:0.11 ,1: 0.12 ,2:0.67 ,3: 0.03, 4:0.05})  \n",
        "rf.fit(X_train, Y_train)\n",
        "\n",
        "print(\"Training Accuracy :\" , accuracy_score(Y_train, rf.predict(X_train)) )\n",
        "\n",
        "predictions2 = rf.predict(X_test)\n",
        "#print(confusion_matrix(Y_test,predictions2))  \n",
        "print(classification_report(Y_test,predictions2))  \n",
        "print(\"TEST ACCURACY  : \",accuracy_score(Y_test, predictions2))"
      ],
      "execution_count": null,
      "outputs": [
        {
          "output_type": "stream",
          "text": [
            "Training Accuracy : 0.9746801940891046\n",
            "[[  37   42  282    6   10]\n",
            " [  29  100  279    7    9]\n",
            " [ 118  126 1787   17   27]\n",
            " [   3    7   44   46    0]\n",
            " [  17   19  122    2   13]]\n",
            "              precision    recall  f1-score   support\n",
            "\n",
            "           0       0.18      0.10      0.13       377\n",
            "           1       0.34      0.24      0.28       424\n",
            "           2       0.71      0.86      0.78      2075\n",
            "           3       0.59      0.46      0.52       100\n",
            "           4       0.22      0.08      0.11       173\n",
            "\n",
            "    accuracy                           0.63      3149\n",
            "   macro avg       0.41      0.35      0.36      3149\n",
            "weighted avg       0.57      0.63      0.59      3149\n",
            "\n",
            "ACCURACY SCORE :  0.6297237218164496\n"
          ],
          "name": "stdout"
        }
      ]
    },
    {
      "cell_type": "markdown",
      "metadata": {
        "id": "vbpRTLA6JRV6"
      },
      "source": [
        "**SVM**"
      ]
    },
    {
      "cell_type": "code",
      "metadata": {
        "id": "pAbTxtP5I090",
        "outputId": "d5c31988-83ad-452d-a04f-24bb8efdca81",
        "colab": {
          "base_uri": "https://localhost:8080/",
          "height": 340
        }
      },
      "source": [
        "from sklearn.svm import LinearSVC\n",
        "sv = LinearSVC(class_weight={0:0.11 ,1: 0.12 ,2:0.67 ,3: 0.03, 4:0.05 })\n",
        "sv.fit(X_train, Y_train)\n",
        "\n",
        "print(\"Training Accuracy :\" , accuracy_score(Y_train, sv.predict(X_train)) )\n",
        "\n",
        "predictions3 = sv.predict(X_test)\n",
        "#print(confusion_matrix(Y_test,predictions3))  \n",
        "print(classification_report(Y_test,predictions3,zero_division=1))  \n",
        "print(\" TEST ACCURACY : \",accuracy_score(Y_test, predictions3))"
      ],
      "execution_count": null,
      "outputs": [
        {
          "output_type": "stream",
          "text": [
            "Training Accuracy : 0.7182179091310101\n",
            "[[   5   18  352    2    0]\n",
            " [   9   51  361    3    0]\n",
            " [  14   29 2025    5    2]\n",
            " [   0    5   71   24    0]\n",
            " [   2    7  163    0    1]]\n",
            "              precision    recall  f1-score   support\n",
            "\n",
            "           0       0.17      0.01      0.02       377\n",
            "           1       0.46      0.12      0.19       424\n",
            "           2       0.68      0.98      0.80      2075\n",
            "           3       0.71      0.24      0.36       100\n",
            "           4       0.33      0.01      0.01       173\n",
            "\n",
            "    accuracy                           0.67      3149\n",
            "   macro avg       0.47      0.27      0.28      3149\n",
            "weighted avg       0.57      0.67      0.57      3149\n",
            "\n",
            " TEST ACCURACY :  0.6687837408701175\n"
          ],
          "name": "stdout"
        }
      ]
    },
    {
      "cell_type": "markdown",
      "metadata": {
        "id": "x2Z3ON47JvaZ"
      },
      "source": [
        "**DECISION TREES**"
      ]
    },
    {
      "cell_type": "code",
      "metadata": {
        "id": "DOXoJG1jKlV7",
        "outputId": "caec96a9-d6cc-424f-b9b2-e367c0292939",
        "colab": {
          "base_uri": "https://localhost:8080/",
          "height": 255
        }
      },
      "source": [
        "from sklearn.tree import DecisionTreeClassifier\n",
        "dt = DecisionTreeClassifier(criterion='entropy',splitter='best', class_weight={0:0.11 ,1: 0.12 ,2:0.67 ,3: 0.03, 4:0.05 },max_features='auto')\n",
        "dt.fit(X_train, Y_train)\n",
        "\n",
        "print(\"Training Accuracy :\" , accuracy_score(Y_train, dt.predict(X_train)) )\n",
        "\n",
        "predictions4 = dt.predict(X_test)\n",
        "#print(confusion_matrix(Y_test,predictions4))  \n",
        "print(classification_report(Y_test,predictions4,zero_division=1))  \n",
        "print(\"TEST ACCURACY SCORE : \",accuracy_score(Y_test, predictions4))"
      ],
      "execution_count": null,
      "outputs": [
        {
          "output_type": "stream",
          "text": [
            "Training Accuracy : 0.9944419938244375\n",
            "              precision    recall  f1-score   support\n",
            "\n",
            "           0       0.15      0.10      0.12       377\n",
            "           1       0.28      0.23      0.25       424\n",
            "           2       0.71      0.79      0.75      2075\n",
            "           3       0.45      0.40      0.43       100\n",
            "           4       0.11      0.09      0.10       173\n",
            "\n",
            "    accuracy                           0.58      3149\n",
            "   macro avg       0.34      0.32      0.33      3149\n",
            "weighted avg       0.54      0.58      0.56      3149\n",
            "\n",
            "TEST ACCURACY SCORE :  0.5814544299777707\n"
          ],
          "name": "stdout"
        }
      ]
    },
    {
      "cell_type": "markdown",
      "metadata": {
        "id": "2UlPk_aB6eb4"
      },
      "source": [
        "**Ada Boost Classifier + Decision Tree**"
      ]
    },
    {
      "cell_type": "code",
      "metadata": {
        "id": "mO30mNMV6dj_",
        "outputId": "5d8eff0e-a728-43a0-8656-f32659675065",
        "colab": {
          "base_uri": "https://localhost:8080/",
          "height": 340
        }
      },
      "source": [
        "from sklearn.ensemble import AdaBoostClassifier\n",
        "abc = AdaBoostClassifier(n_estimators=100 , base_estimator= dt)\n",
        "abc.fit(X_train,Y_train)\n",
        "\n",
        "print(\"Training Accuracy :\" , accuracy_score(Y_train, abc.predict(X_train)) )\n",
        "\n",
        "predictions5 = abc.predict(X_test)\n",
        "print(confusion_matrix(Y_test,predictions5))\n",
        "print(classification_report(Y_test,predictions5))\n",
        "print(\"TEST ACCURACY : \",accuracy_score(Y_test, predictions5))"
      ],
      "execution_count": null,
      "outputs": [
        {
          "output_type": "stream",
          "text": [
            "Training Accuracy : 0.9945302161446846\n",
            "[[  27   33  310    3    4]\n",
            " [  30   70  313    1   10]\n",
            " [ 117  110 1807   15   26]\n",
            " [   4    6   61   29    0]\n",
            " [  13   16  128    3   13]]\n",
            "              precision    recall  f1-score   support\n",
            "\n",
            "           0       0.14      0.07      0.10       377\n",
            "           1       0.30      0.17      0.21       424\n",
            "           2       0.69      0.87      0.77      2075\n",
            "           3       0.57      0.29      0.38       100\n",
            "           4       0.25      0.08      0.12       173\n",
            "\n",
            "    accuracy                           0.62      3149\n",
            "   macro avg       0.39      0.29      0.32      3149\n",
            "weighted avg       0.54      0.62      0.57      3149\n",
            "\n",
            "TEST ACCURACY :  0.6179739599872975\n"
          ],
          "name": "stdout"
        }
      ]
    },
    {
      "cell_type": "markdown",
      "metadata": {
        "id": "MxznMFmb1fKQ"
      },
      "source": [
        "**MAX VOTING**"
      ]
    },
    {
      "cell_type": "code",
      "metadata": {
        "id": "HvF5t3pRUb8N"
      },
      "source": [
        "classes = ['Mixed_feelings','Negative','Positive','not-Tamil','unknown_state']"
      ],
      "execution_count": null,
      "outputs": []
    },
    {
      "cell_type": "code",
      "metadata": {
        "id": "NaDrZOV-sfIy"
      },
      "source": [
        "training_data = pd.DataFrame()\n",
        "n = r = s = d = a = yt = []\n",
        "\n",
        "p1 = bnb.predict(X_train)\n",
        "p2 = rf.predict(X_train)\n",
        "p3 = sv.predict(X_train)\n",
        "p4 = dt.predict(X_train)\n",
        "p5 = abc.predict(X_train)\n",
        "\n",
        "for i in range(0,len(X_test)):\n",
        "  n.append(classes[predictions1[i]])\n",
        "  r.append(classes[predictions2[i]])\n",
        "  #s.append(classes[predictions3[i]])\n",
        "  d.append(classes[predictions4[i]])\n",
        "  a.append(classes[predictions5[i]])\n",
        "  yt.append(classes[Y_test[i]])"
      ],
      "execution_count": null,
      "outputs": []
    },
    {
      "cell_type": "code",
      "metadata": {
        "id": "rVW0_wvquE1d",
        "outputId": "d75c51d6-20d6-4f0f-d8c8-206ffb3e4029",
        "colab": {
          "base_uri": "https://localhost:8080/",
          "height": 204
        }
      },
      "source": [
        "training_data['Naive Bayes'] = n\n",
        "training_data['Random Forest'] = r\n",
        "#training_data['SVM'] = s\n",
        "training_data['Decision Tree'] = d\n",
        "training_data['Ada Boost'] = a\n",
        "\n",
        "training_data.head()"
      ],
      "execution_count": null,
      "outputs": [
        {
          "output_type": "execute_result",
          "data": {
            "text/html": [
              "<div>\n",
              "<style scoped>\n",
              "    .dataframe tbody tr th:only-of-type {\n",
              "        vertical-align: middle;\n",
              "    }\n",
              "\n",
              "    .dataframe tbody tr th {\n",
              "        vertical-align: top;\n",
              "    }\n",
              "\n",
              "    .dataframe thead th {\n",
              "        text-align: right;\n",
              "    }\n",
              "</style>\n",
              "<table border=\"1\" class=\"dataframe\">\n",
              "  <thead>\n",
              "    <tr style=\"text-align: right;\">\n",
              "      <th></th>\n",
              "      <th>Naive Bayes</th>\n",
              "      <th>Random Forest</th>\n",
              "      <th>Decision Tree</th>\n",
              "      <th>Ada Boost</th>\n",
              "    </tr>\n",
              "  </thead>\n",
              "  <tbody>\n",
              "    <tr>\n",
              "      <th>0</th>\n",
              "      <td>Positive</td>\n",
              "      <td>Positive</td>\n",
              "      <td>Positive</td>\n",
              "      <td>Positive</td>\n",
              "    </tr>\n",
              "    <tr>\n",
              "      <th>1</th>\n",
              "      <td>Positive</td>\n",
              "      <td>Positive</td>\n",
              "      <td>Positive</td>\n",
              "      <td>Positive</td>\n",
              "    </tr>\n",
              "    <tr>\n",
              "      <th>2</th>\n",
              "      <td>unknown_state</td>\n",
              "      <td>unknown_state</td>\n",
              "      <td>unknown_state</td>\n",
              "      <td>unknown_state</td>\n",
              "    </tr>\n",
              "    <tr>\n",
              "      <th>3</th>\n",
              "      <td>Positive</td>\n",
              "      <td>Positive</td>\n",
              "      <td>Positive</td>\n",
              "      <td>Positive</td>\n",
              "    </tr>\n",
              "    <tr>\n",
              "      <th>4</th>\n",
              "      <td>Positive</td>\n",
              "      <td>Positive</td>\n",
              "      <td>Positive</td>\n",
              "      <td>Positive</td>\n",
              "    </tr>\n",
              "  </tbody>\n",
              "</table>\n",
              "</div>"
            ],
            "text/plain": [
              "     Naive Bayes  Random Forest  Decision Tree      Ada Boost\n",
              "0       Positive       Positive       Positive       Positive\n",
              "1       Positive       Positive       Positive       Positive\n",
              "2  unknown_state  unknown_state  unknown_state  unknown_state\n",
              "3       Positive       Positive       Positive       Positive\n",
              "4       Positive       Positive       Positive       Positive"
            ]
          },
          "metadata": {
            "tags": []
          },
          "execution_count": 98
        }
      ]
    },
    {
      "cell_type": "code",
      "metadata": {
        "id": "i1qcMDeLuWOd",
        "outputId": "d2468bac-4c01-4bf8-c494-f3d4f1e7710b",
        "colab": {
          "base_uri": "https://localhost:8080/",
          "height": 204
        }
      },
      "source": [
        "training_res = pd.DataFrame()\n",
        "training_res['Pred'] = training_data.mode(axis=1)[0]\n",
        "training_res.head()"
      ],
      "execution_count": null,
      "outputs": [
        {
          "output_type": "execute_result",
          "data": {
            "text/html": [
              "<div>\n",
              "<style scoped>\n",
              "    .dataframe tbody tr th:only-of-type {\n",
              "        vertical-align: middle;\n",
              "    }\n",
              "\n",
              "    .dataframe tbody tr th {\n",
              "        vertical-align: top;\n",
              "    }\n",
              "\n",
              "    .dataframe thead th {\n",
              "        text-align: right;\n",
              "    }\n",
              "</style>\n",
              "<table border=\"1\" class=\"dataframe\">\n",
              "  <thead>\n",
              "    <tr style=\"text-align: right;\">\n",
              "      <th></th>\n",
              "      <th>Pred</th>\n",
              "    </tr>\n",
              "  </thead>\n",
              "  <tbody>\n",
              "    <tr>\n",
              "      <th>0</th>\n",
              "      <td>Positive</td>\n",
              "    </tr>\n",
              "    <tr>\n",
              "      <th>1</th>\n",
              "      <td>Positive</td>\n",
              "    </tr>\n",
              "    <tr>\n",
              "      <th>2</th>\n",
              "      <td>unknown_state</td>\n",
              "    </tr>\n",
              "    <tr>\n",
              "      <th>3</th>\n",
              "      <td>Positive</td>\n",
              "    </tr>\n",
              "    <tr>\n",
              "      <th>4</th>\n",
              "      <td>Positive</td>\n",
              "    </tr>\n",
              "  </tbody>\n",
              "</table>\n",
              "</div>"
            ],
            "text/plain": [
              "            Pred\n",
              "0       Positive\n",
              "1       Positive\n",
              "2  unknown_state\n",
              "3       Positive\n",
              "4       Positive"
            ]
          },
          "metadata": {
            "tags": []
          },
          "execution_count": 101
        }
      ]
    },
    {
      "cell_type": "code",
      "metadata": {
        "id": "qcocTPsv15ZY"
      },
      "source": [
        "voting_data = pd.DataFrame() "
      ],
      "execution_count": null,
      "outputs": []
    },
    {
      "cell_type": "code",
      "metadata": {
        "id": "JyaG9tbz1c9x",
        "outputId": "f3c48e42-0e32-4308-bc5e-8efa7c2b13df",
        "colab": {
          "base_uri": "https://localhost:8080/",
          "height": 204
        }
      },
      "source": [
        "nbd = []\n",
        "rfd = []\n",
        "svmd = []\n",
        "dtd = []\n",
        "abcd = []\n",
        "y_true = []\n",
        "\n",
        "for i in range(0,len(X_test)):\n",
        "  nbd.append(classes[predictions1[i]])\n",
        "  rfd.append(classes[predictions2[i]])\n",
        "  #svmd.append(classes[predictions3[i]])\n",
        "  dtd.append(classes[predictions4[i]])\n",
        "  abcd.append(classes[predictions5[i]])\n",
        "  y_true.append(classes[Y_test[i]])\n",
        "\n",
        "voting_data['Naive Bayes'] = nbd\n",
        "voting_data['Random Forest'] = rfd\n",
        "#voting_data['SVM'] = svmd\n",
        "voting_data['Decision Tree'] = dtd\n",
        "voting_data['Ada Boost'] = abcd\n",
        "\n",
        "voting_data.head()"
      ],
      "execution_count": null,
      "outputs": [
        {
          "output_type": "execute_result",
          "data": {
            "text/html": [
              "<div>\n",
              "<style scoped>\n",
              "    .dataframe tbody tr th:only-of-type {\n",
              "        vertical-align: middle;\n",
              "    }\n",
              "\n",
              "    .dataframe tbody tr th {\n",
              "        vertical-align: top;\n",
              "    }\n",
              "\n",
              "    .dataframe thead th {\n",
              "        text-align: right;\n",
              "    }\n",
              "</style>\n",
              "<table border=\"1\" class=\"dataframe\">\n",
              "  <thead>\n",
              "    <tr style=\"text-align: right;\">\n",
              "      <th></th>\n",
              "      <th>Naive Bayes</th>\n",
              "      <th>Random Forest</th>\n",
              "      <th>Decision Tree</th>\n",
              "      <th>Ada Boost</th>\n",
              "    </tr>\n",
              "  </thead>\n",
              "  <tbody>\n",
              "    <tr>\n",
              "      <th>0</th>\n",
              "      <td>Positive</td>\n",
              "      <td>Positive</td>\n",
              "      <td>unknown_state</td>\n",
              "      <td>Positive</td>\n",
              "    </tr>\n",
              "    <tr>\n",
              "      <th>1</th>\n",
              "      <td>Mixed_feelings</td>\n",
              "      <td>Negative</td>\n",
              "      <td>Negative</td>\n",
              "      <td>Positive</td>\n",
              "    </tr>\n",
              "    <tr>\n",
              "      <th>2</th>\n",
              "      <td>Positive</td>\n",
              "      <td>Positive</td>\n",
              "      <td>Positive</td>\n",
              "      <td>Positive</td>\n",
              "    </tr>\n",
              "    <tr>\n",
              "      <th>3</th>\n",
              "      <td>Negative</td>\n",
              "      <td>Negative</td>\n",
              "      <td>Negative</td>\n",
              "      <td>Positive</td>\n",
              "    </tr>\n",
              "    <tr>\n",
              "      <th>4</th>\n",
              "      <td>Positive</td>\n",
              "      <td>Positive</td>\n",
              "      <td>Positive</td>\n",
              "      <td>Positive</td>\n",
              "    </tr>\n",
              "  </tbody>\n",
              "</table>\n",
              "</div>"
            ],
            "text/plain": [
              "      Naive Bayes Random Forest  Decision Tree Ada Boost\n",
              "0        Positive      Positive  unknown_state  Positive\n",
              "1  Mixed_feelings      Negative       Negative  Positive\n",
              "2        Positive      Positive       Positive  Positive\n",
              "3        Negative      Negative       Negative  Positive\n",
              "4        Positive      Positive       Positive  Positive"
            ]
          },
          "metadata": {
            "tags": []
          },
          "execution_count": 103
        }
      ]
    },
    {
      "cell_type": "code",
      "metadata": {
        "id": "g-ACO7Zr-QI8",
        "outputId": "60cf0df6-c68c-4210-b5b1-6b4a38fad937",
        "colab": {
          "base_uri": "https://localhost:8080/",
          "height": 204
        }
      },
      "source": [
        "voting_res = pd.DataFrame()\n",
        "voting_res['Pred'] = voting_data.mode(axis=1)[0]\n",
        "voting_res.head()"
      ],
      "execution_count": null,
      "outputs": [
        {
          "output_type": "execute_result",
          "data": {
            "text/html": [
              "<div>\n",
              "<style scoped>\n",
              "    .dataframe tbody tr th:only-of-type {\n",
              "        vertical-align: middle;\n",
              "    }\n",
              "\n",
              "    .dataframe tbody tr th {\n",
              "        vertical-align: top;\n",
              "    }\n",
              "\n",
              "    .dataframe thead th {\n",
              "        text-align: right;\n",
              "    }\n",
              "</style>\n",
              "<table border=\"1\" class=\"dataframe\">\n",
              "  <thead>\n",
              "    <tr style=\"text-align: right;\">\n",
              "      <th></th>\n",
              "      <th>Pred</th>\n",
              "    </tr>\n",
              "  </thead>\n",
              "  <tbody>\n",
              "    <tr>\n",
              "      <th>0</th>\n",
              "      <td>Positive</td>\n",
              "    </tr>\n",
              "    <tr>\n",
              "      <th>1</th>\n",
              "      <td>Negative</td>\n",
              "    </tr>\n",
              "    <tr>\n",
              "      <th>2</th>\n",
              "      <td>Positive</td>\n",
              "    </tr>\n",
              "    <tr>\n",
              "      <th>3</th>\n",
              "      <td>Negative</td>\n",
              "    </tr>\n",
              "    <tr>\n",
              "      <th>4</th>\n",
              "      <td>Positive</td>\n",
              "    </tr>\n",
              "  </tbody>\n",
              "</table>\n",
              "</div>"
            ],
            "text/plain": [
              "       Pred\n",
              "0  Positive\n",
              "1  Negative\n",
              "2  Positive\n",
              "3  Negative\n",
              "4  Positive"
            ]
          },
          "metadata": {
            "tags": []
          },
          "execution_count": 104
        }
      ]
    },
    {
      "cell_type": "code",
      "metadata": {
        "id": "OJRsnT7fHhYK",
        "outputId": "5f9de516-d045-4cb0-ed35-05667f8506f0",
        "colab": {
          "base_uri": "https://localhost:8080/",
          "height": 340
        }
      },
      "source": [
        "print(\"Training accuracy : \", accuracy_score(yt , training_res['Pred']))\n",
        "\n",
        "predictions6 = voting_res['Pred']\n",
        "#print(confusion_matrix(y_true,predictions6))\n",
        "print(classification_report(y_true,predictions6))\n",
        "print(\"ACCURACY SCORE : \",accuracy_score(y_true, predictions6))"
      ],
      "execution_count": null,
      "outputs": [
        {
          "output_type": "stream",
          "text": [
            "Training accuracy :  1.0\n",
            "[[  28   55  288    4    2]\n",
            " [  42  118  259    2    3]\n",
            " [  95  125 1836    8   11]\n",
            " [   1    5   55   39    0]\n",
            " [  11   19  132    0   11]]\n",
            "                precision    recall  f1-score   support\n",
            "\n",
            "Mixed_feelings       0.16      0.07      0.10       377\n",
            "      Negative       0.37      0.28      0.32       424\n",
            "      Positive       0.71      0.88      0.79      2075\n",
            "     not-Tamil       0.74      0.39      0.51       100\n",
            " unknown_state       0.41      0.06      0.11       173\n",
            "\n",
            "      accuracy                           0.65      3149\n",
            "     macro avg       0.48      0.34      0.37      3149\n",
            "  weighted avg       0.58      0.65      0.60      3149\n",
            "\n",
            "ACCURACY SCORE :  0.6452842172118133\n"
          ],
          "name": "stdout"
        }
      ]
    },
    {
      "cell_type": "markdown",
      "metadata": {
        "id": "kiCCUvCWMPQ4"
      },
      "source": [
        "**PREDICTIONS**"
      ]
    },
    {
      "cell_type": "code",
      "metadata": {
        "id": "lVNk5tZ4UX2h"
      },
      "source": [
        "test_voting = pd.DataFrame()\n",
        "\n",
        "tamil_test_data.head()"
      ],
      "execution_count": null,
      "outputs": []
    },
    {
      "cell_type": "code",
      "metadata": {
        "id": "0xRqz3u3OAoQ"
      },
      "source": [
        "pred_class = []\n",
        "Y_test = bnb.predict(X_test)\n",
        "for item in Y_test:\n",
        "  pred_class.append(classes[item])\n",
        "\n",
        "bnb_data = tamil_test_data\n",
        "bnb_data['label'] = pred_class\n",
        "\n",
        "test_voting['Naive Bayes'] = pred_class\n",
        "\n",
        "compression_opts = dict(method='zip',archive_name='HRS TECHIE_Tamil.txt')  \n",
        "bnb_data.to_csv('HRS TECHIE.zip', sep='\\t', index=False, compression=compression_opts)\n",
        "\n",
        "print(pred_class.count('Mixed_feelings'))\n",
        "print(pred_class.count('Negative'))\n",
        "print(pred_class.count('Positive'))\n",
        "print(pred_class.count('not-Tamil'))\n",
        "print(pred_class.count('unknown_state'))"
      ],
      "execution_count": null,
      "outputs": []
    },
    {
      "cell_type": "code",
      "metadata": {
        "id": "bS2TDGusOa7w"
      },
      "source": [
        "pred_class = []\n",
        "Y_test = rf.predict(X_test)\n",
        "for item in Y_test:\n",
        "  pred_class.append(classes[item])\n",
        "\n",
        "rf_data = tamil_test_data\n",
        "rf_data['label'] = pred_class\n",
        "\n",
        "test_voting['Random Forest'] = pred_class\n",
        "\n",
        "\n",
        "compression_opts = dict(method='zip',archive_name='HRS-TECHIE_Tamil.tsv')  \n",
        "rf_data.to_csv('HRS-TECHIE.zip', sep='\\t', index=False, compression=compression_opts)\n",
        "\n",
        "print(pred_class.count('Mixed_feelings'))\n",
        "print(pred_class.count('Negative'))\n",
        "print(pred_class.count('Positive'))\n",
        "print(pred_class.count('not-Tamil'))\n",
        "print(pred_class.count('unknown_state'))"
      ],
      "execution_count": null,
      "outputs": []
    },
    {
      "cell_type": "code",
      "metadata": {
        "id": "Aws8Kd4zObDL"
      },
      "source": [
        "pred_class = []\n",
        "Y_test = sv.predict(X_test)\n",
        "for item in Y_test:\n",
        "  pred_class.append(classes[item])\n",
        "\n",
        "svm_data = tamil_test_data\n",
        "svm_data['label'] = pred_class\n",
        "\n",
        "#test_voting['SVM'] = pred_class\n",
        "\n",
        "compression_opts = dict(method='zip',archive_name='HRS-TECHIE_Tamil.tsv')  \n",
        "svm_data.to_csv('HRS-TECHIE.zip', sep='\\t', index=False, compression=compression_opts)\n",
        "\n",
        "print(pred_class.count('Mixed_feelings'))\n",
        "print(pred_class.count('Negative'))\n",
        "print(pred_class.count('Positive'))\n",
        "print(pred_class.count('not-Tamil'))\n",
        "print(pred_class.count('unknown_state'))"
      ],
      "execution_count": null,
      "outputs": []
    },
    {
      "cell_type": "code",
      "metadata": {
        "id": "Zq60eUisVmor"
      },
      "source": [
        "pred_class = []\n",
        "Y_test = dt.predict(X_test)\n",
        "for item in Y_test:\n",
        "  pred_class.append(classes[item])\n",
        "\n",
        "dt_data = tamil_test_data\n",
        "dt_data['label'] = pred_class\n",
        "\n",
        "test_voting['Decision Tree'] = pred_class\n",
        "\n",
        "compression_opts = dict(method='zip',archive_name='HRS-TECHIE_Tamil.tsv')  \n",
        "dt_data.to_csv('HRS-TECHIE.zip', sep='\\t', index=False, compression=compression_opts)\n",
        "\n",
        "print(pred_class.count('Mixed_feelings'))\n",
        "print(pred_class.count('Negative'))\n",
        "print(pred_class.count('Positive'))\n",
        "print(pred_class.count('not-Tamil'))\n",
        "print(pred_class.count('unknown_state'))"
      ],
      "execution_count": null,
      "outputs": []
    },
    {
      "cell_type": "code",
      "metadata": {
        "id": "y-xTNAf3VGfx"
      },
      "source": [
        "pred_class = []\n",
        "Y_test = abc.predict(X_test)\n",
        "for item in Y_test:\n",
        "  pred_class.append(classes[item])\n",
        "\n",
        "abc_data = tamil_test_data\n",
        "abc_data['label'] = pred_class\n",
        "\n",
        "test_voting['Ada Boost'] = pred_class\n",
        "\n",
        "compression_opts = dict(method='zip',archive_name='HRS-TECHIE_Tamil.tsv')  \n",
        "abc_data.to_csv('HRS-TECHIE.zip', sep='\\t', index=False, compression=compression_opts)\n",
        "\n",
        "print(pred_class.count('Mixed_feelings'))\n",
        "print(pred_class.count('Negative'))\n",
        "print(pred_class.count('Positive'))\n",
        "print(pred_class.count('not-Tamil'))\n",
        "print(pred_class.count('unknown_state'))"
      ],
      "execution_count": null,
      "outputs": []
    },
    {
      "cell_type": "code",
      "metadata": {
        "id": "gW2n58_dygTI"
      },
      "source": [
        "test_voting.head()"
      ],
      "execution_count": null,
      "outputs": []
    },
    {
      "cell_type": "code",
      "metadata": {
        "id": "hlyq2FzT0qzd"
      },
      "source": [
        "test_res_voting = pd.DataFrame()\n",
        "test_res_voting['Pred'] = test_voting.mode(axis=1)[0]\n",
        "test_res_voting.head()"
      ],
      "execution_count": null,
      "outputs": []
    },
    {
      "cell_type": "code",
      "metadata": {
        "id": "quXWovbb0_7W"
      },
      "source": [
        "ensemble_data = tamil_test_data\n",
        "ensemble_data['label'] = test_res_voting['Pred']\n",
        "pred_class = (ensemble_data['label']).to_list()\n",
        "\n",
        "compression_opts = dict(method='zip',archive_name='HRS-TECHIE_Tamil.tsv')  \n",
        "ensemble_data.to_csv('HRS-TECHIE.zip', sep='\\t', index=False, compression=compression_opts)\n",
        "\n",
        "print(pred_class.count('Mixed_feelings'))\n",
        "print(pred_class.count('Negative'))\n",
        "print(pred_class.count('Positive'))\n",
        "print(pred_class.count('not-Tamil'))\n",
        "print(pred_class.count('unknown_state'))"
      ],
      "execution_count": null,
      "outputs": []
    }
  ]
}
